{
 "cells": [
  {
   "cell_type": "markdown",
   "id": "9e3514ed-9098-4557-bc6c-89d700ce66c2",
   "metadata": {},
   "source": [
    "Import the required libraries"
   ]
  },
  {
   "cell_type": "code",
   "execution_count": 22,
   "id": "cc7bf423-c69a-4e14-81e1-f732327aa961",
   "metadata": {
    "tags": []
   },
   "outputs": [],
   "source": [
    "import pandas as pd\n",
    "from pyspark.sql import Row"
   ]
  },
  {
   "cell_type": "markdown",
   "id": "030b25c2-7189-420e-90b7-25eea1a1f9a4",
   "metadata": {},
   "source": [
    "Create the spark session"
   ]
  },
  {
   "cell_type": "code",
   "execution_count": 23,
   "id": "26f6ea4c-1200-4bcc-a2de-532c8b178530",
   "metadata": {},
   "outputs": [],
   "source": [
    "from pyspark.sql import SparkSession"
   ]
  },
  {
   "cell_type": "markdown",
   "id": "bd667073-abd0-4dc9-8245-0c3c86a49806",
   "metadata": {},
   "source": [
    "Initialize the spark session and connection to mysql"
   ]
  },
  {
   "cell_type": "code",
   "execution_count": 25,
   "id": "dcee6c63-1222-4092-a148-68fdf117309c",
   "metadata": {
    "tags": []
   },
   "outputs": [],
   "source": [
    "\n",
    "spark = SparkSession.builder.appName(\"erick\")\\\n",
    "        .config('spark.jars.packages', 'mysql:mysql-connector-java:8.0.32')\\\n",
    "        .getOrCreate()\n",
    "sqlContext = SparkSession(spark)\n",
    "spark.sparkContext.setLogLevel(\"ERROR\")\n"
   ]
  },
  {
   "cell_type": "code",
   "execution_count": 26,
   "id": "35af009a-806d-47fe-94ac-a1813f4f95ad",
   "metadata": {
    "tags": []
   },
   "outputs": [
    {
     "data": {
      "text/html": [
       "\n",
       "            <div>\n",
       "                <p><b>SparkSession - in-memory</b></p>\n",
       "                \n",
       "        <div>\n",
       "            <p><b>SparkContext</b></p>\n",
       "\n",
       "            <p><a href=\"http://27b6db94db74:4043\">Spark UI</a></p>\n",
       "\n",
       "            <dl>\n",
       "              <dt>Version</dt>\n",
       "                <dd><code>v3.2.1</code></dd>\n",
       "              <dt>Master</dt>\n",
       "                <dd><code>local[*]</code></dd>\n",
       "              <dt>AppName</dt>\n",
       "                <dd><code>erick</code></dd>\n",
       "            </dl>\n",
       "        </div>\n",
       "        \n",
       "            </div>\n",
       "        "
      ],
      "text/plain": [
       "<pyspark.sql.session.SparkSession at 0x7f1f5db112e0>"
      ]
     },
     "execution_count": 26,
     "metadata": {},
     "output_type": "execute_result"
    }
   ],
   "source": [
    "spark"
   ]
  },
  {
   "cell_type": "markdown",
   "id": "e623990f-0425-4a90-ad52-3686f8ef4e5a",
   "metadata": {},
   "source": [
    "Load my dataset"
   ]
  },
  {
   "cell_type": "code",
   "execution_count": 5,
   "id": "d3c90dc6-fc32-4a43-8d00-9892811ad47f",
   "metadata": {
    "tags": []
   },
   "outputs": [
    {
     "name": "stderr",
     "output_type": "stream",
     "text": [
      "                                                                                \r"
     ]
    }
   ],
   "source": [
    "input_df= spark.read.csv('BreastCancer.csv')"
   ]
  },
  {
   "cell_type": "markdown",
   "id": "e4613f7b-70cc-418b-bc20-1d0a6c76a50e",
   "metadata": {},
   "source": [
    "The dataset has many columns therefore am using pandas to view these columns"
   ]
  },
  {
   "cell_type": "code",
   "execution_count": 27,
   "id": "69ffd7b1-7f76-4ed4-871e-f871abc1156b",
   "metadata": {
    "tags": []
   },
   "outputs": [
    {
     "data": {
      "text/html": [
       "<div>\n",
       "<style scoped>\n",
       "    .dataframe tbody tr th:only-of-type {\n",
       "        vertical-align: middle;\n",
       "    }\n",
       "\n",
       "    .dataframe tbody tr th {\n",
       "        vertical-align: top;\n",
       "    }\n",
       "\n",
       "    .dataframe thead th {\n",
       "        text-align: right;\n",
       "    }\n",
       "</style>\n",
       "<table border=\"1\" class=\"dataframe\">\n",
       "  <thead>\n",
       "    <tr style=\"text-align: right;\">\n",
       "      <th></th>\n",
       "      <th>id</th>\n",
       "      <th>diagnosis</th>\n",
       "      <th>radius_mean</th>\n",
       "      <th>texture_mean</th>\n",
       "      <th>perimeter_mean</th>\n",
       "      <th>area_mean</th>\n",
       "      <th>smoothness_mean</th>\n",
       "      <th>compactness_mean</th>\n",
       "      <th>concavity_mean</th>\n",
       "      <th>concave points_mean</th>\n",
       "      <th>...</th>\n",
       "      <th>radius_worst</th>\n",
       "      <th>texture_worst</th>\n",
       "      <th>perimeter_worst</th>\n",
       "      <th>area_worst</th>\n",
       "      <th>smoothness_worst</th>\n",
       "      <th>compactness_worst</th>\n",
       "      <th>concavity_worst</th>\n",
       "      <th>concave points_worst</th>\n",
       "      <th>symmetry_worst</th>\n",
       "      <th>fractal_dimension_worst</th>\n",
       "    </tr>\n",
       "  </thead>\n",
       "  <tbody>\n",
       "    <tr>\n",
       "      <th>0</th>\n",
       "      <td>842302</td>\n",
       "      <td>M</td>\n",
       "      <td>17.99</td>\n",
       "      <td>10.38</td>\n",
       "      <td>122.80</td>\n",
       "      <td>1001.0</td>\n",
       "      <td>0.11840</td>\n",
       "      <td>0.27760</td>\n",
       "      <td>0.3001</td>\n",
       "      <td>0.14710</td>\n",
       "      <td>...</td>\n",
       "      <td>25.38</td>\n",
       "      <td>17.33</td>\n",
       "      <td>184.60</td>\n",
       "      <td>2019.0</td>\n",
       "      <td>0.1622</td>\n",
       "      <td>0.6656</td>\n",
       "      <td>0.7119</td>\n",
       "      <td>0.2654</td>\n",
       "      <td>0.4601</td>\n",
       "      <td>0.11890</td>\n",
       "    </tr>\n",
       "    <tr>\n",
       "      <th>1</th>\n",
       "      <td>842517</td>\n",
       "      <td>M</td>\n",
       "      <td>20.57</td>\n",
       "      <td>17.77</td>\n",
       "      <td>132.90</td>\n",
       "      <td>1326.0</td>\n",
       "      <td>0.08474</td>\n",
       "      <td>0.07864</td>\n",
       "      <td>0.0869</td>\n",
       "      <td>0.07017</td>\n",
       "      <td>...</td>\n",
       "      <td>24.99</td>\n",
       "      <td>23.41</td>\n",
       "      <td>158.80</td>\n",
       "      <td>1956.0</td>\n",
       "      <td>0.1238</td>\n",
       "      <td>0.1866</td>\n",
       "      <td>0.2416</td>\n",
       "      <td>0.1860</td>\n",
       "      <td>0.2750</td>\n",
       "      <td>0.08902</td>\n",
       "    </tr>\n",
       "    <tr>\n",
       "      <th>2</th>\n",
       "      <td>84300903</td>\n",
       "      <td>M</td>\n",
       "      <td>19.69</td>\n",
       "      <td>21.25</td>\n",
       "      <td>130.00</td>\n",
       "      <td>1203.0</td>\n",
       "      <td>0.10960</td>\n",
       "      <td>0.15990</td>\n",
       "      <td>0.1974</td>\n",
       "      <td>0.12790</td>\n",
       "      <td>...</td>\n",
       "      <td>23.57</td>\n",
       "      <td>25.53</td>\n",
       "      <td>152.50</td>\n",
       "      <td>1709.0</td>\n",
       "      <td>0.1444</td>\n",
       "      <td>0.4245</td>\n",
       "      <td>0.4504</td>\n",
       "      <td>0.2430</td>\n",
       "      <td>0.3613</td>\n",
       "      <td>0.08758</td>\n",
       "    </tr>\n",
       "    <tr>\n",
       "      <th>3</th>\n",
       "      <td>84348301</td>\n",
       "      <td>M</td>\n",
       "      <td>11.42</td>\n",
       "      <td>20.38</td>\n",
       "      <td>77.58</td>\n",
       "      <td>386.1</td>\n",
       "      <td>0.14250</td>\n",
       "      <td>0.28390</td>\n",
       "      <td>0.2414</td>\n",
       "      <td>0.10520</td>\n",
       "      <td>...</td>\n",
       "      <td>14.91</td>\n",
       "      <td>26.50</td>\n",
       "      <td>98.87</td>\n",
       "      <td>567.7</td>\n",
       "      <td>0.2098</td>\n",
       "      <td>0.8663</td>\n",
       "      <td>0.6869</td>\n",
       "      <td>0.2575</td>\n",
       "      <td>0.6638</td>\n",
       "      <td>0.17300</td>\n",
       "    </tr>\n",
       "    <tr>\n",
       "      <th>4</th>\n",
       "      <td>84358402</td>\n",
       "      <td>M</td>\n",
       "      <td>20.29</td>\n",
       "      <td>14.34</td>\n",
       "      <td>135.10</td>\n",
       "      <td>1297.0</td>\n",
       "      <td>0.10030</td>\n",
       "      <td>0.13280</td>\n",
       "      <td>0.1980</td>\n",
       "      <td>0.10430</td>\n",
       "      <td>...</td>\n",
       "      <td>22.54</td>\n",
       "      <td>16.67</td>\n",
       "      <td>152.20</td>\n",
       "      <td>1575.0</td>\n",
       "      <td>0.1374</td>\n",
       "      <td>0.2050</td>\n",
       "      <td>0.4000</td>\n",
       "      <td>0.1625</td>\n",
       "      <td>0.2364</td>\n",
       "      <td>0.07678</td>\n",
       "    </tr>\n",
       "  </tbody>\n",
       "</table>\n",
       "<p>5 rows × 32 columns</p>\n",
       "</div>"
      ],
      "text/plain": [
       "         id diagnosis  radius_mean  texture_mean  perimeter_mean  area_mean   \n",
       "0    842302         M        17.99         10.38          122.80     1001.0  \\\n",
       "1    842517         M        20.57         17.77          132.90     1326.0   \n",
       "2  84300903         M        19.69         21.25          130.00     1203.0   \n",
       "3  84348301         M        11.42         20.38           77.58      386.1   \n",
       "4  84358402         M        20.29         14.34          135.10     1297.0   \n",
       "\n",
       "   smoothness_mean  compactness_mean  concavity_mean  concave points_mean   \n",
       "0          0.11840           0.27760          0.3001              0.14710  \\\n",
       "1          0.08474           0.07864          0.0869              0.07017   \n",
       "2          0.10960           0.15990          0.1974              0.12790   \n",
       "3          0.14250           0.28390          0.2414              0.10520   \n",
       "4          0.10030           0.13280          0.1980              0.10430   \n",
       "\n",
       "   ...  radius_worst  texture_worst  perimeter_worst  area_worst   \n",
       "0  ...         25.38          17.33           184.60      2019.0  \\\n",
       "1  ...         24.99          23.41           158.80      1956.0   \n",
       "2  ...         23.57          25.53           152.50      1709.0   \n",
       "3  ...         14.91          26.50            98.87       567.7   \n",
       "4  ...         22.54          16.67           152.20      1575.0   \n",
       "\n",
       "   smoothness_worst  compactness_worst  concavity_worst  concave points_worst   \n",
       "0            0.1622             0.6656           0.7119                0.2654  \\\n",
       "1            0.1238             0.1866           0.2416                0.1860   \n",
       "2            0.1444             0.4245           0.4504                0.2430   \n",
       "3            0.2098             0.8663           0.6869                0.2575   \n",
       "4            0.1374             0.2050           0.4000                0.1625   \n",
       "\n",
       "   symmetry_worst  fractal_dimension_worst  \n",
       "0          0.4601                  0.11890  \n",
       "1          0.2750                  0.08902  \n",
       "2          0.3613                  0.08758  \n",
       "3          0.6638                  0.17300  \n",
       "4          0.2364                  0.07678  \n",
       "\n",
       "[5 rows x 32 columns]"
      ]
     },
     "execution_count": 27,
     "metadata": {},
     "output_type": "execute_result"
    }
   ],
   "source": [
    "pd.DataFrame(input_df.take(10), columns=input_df.columns).head()"
   ]
  },
  {
   "cell_type": "markdown",
   "id": "b96414d3-9641-4868-8ad2-d9418282bbd4",
   "metadata": {},
   "source": [
    "Setting headers to true and inferschema to true to have the right format for my data"
   ]
  },
  {
   "cell_type": "code",
   "execution_count": 28,
   "id": "77bd0045-6297-4dcd-82fc-fd91e53dbda5",
   "metadata": {
    "tags": []
   },
   "outputs": [],
   "source": [
    "input_df=spark.read.option('header','true').csv('BreastCancer.csv',inferSchema=True)"
   ]
  },
  {
   "cell_type": "markdown",
   "id": "357abfa5-2ada-4cfd-8a29-2ca4af16a644",
   "metadata": {},
   "source": [
    "viewing datatypes of the columns"
   ]
  },
  {
   "cell_type": "code",
   "execution_count": 29,
   "id": "1b88e5ce-f068-448b-9ceb-6aff86d51ef2",
   "metadata": {
    "tags": []
   },
   "outputs": [
    {
     "name": "stdout",
     "output_type": "stream",
     "text": [
      "root\n",
      " |-- id: integer (nullable = true)\n",
      " |-- diagnosis: string (nullable = true)\n",
      " |-- radius_mean: double (nullable = true)\n",
      " |-- texture_mean: double (nullable = true)\n",
      " |-- perimeter_mean: double (nullable = true)\n",
      " |-- area_mean: double (nullable = true)\n",
      " |-- smoothness_mean: double (nullable = true)\n",
      " |-- compactness_mean: double (nullable = true)\n",
      " |-- concavity_mean: double (nullable = true)\n",
      " |-- concave points_mean: double (nullable = true)\n",
      " |-- symmetry_mean: double (nullable = true)\n",
      " |-- fractal_dimension_mean: double (nullable = true)\n",
      " |-- radius_se: double (nullable = true)\n",
      " |-- texture_se: double (nullable = true)\n",
      " |-- perimeter_se: double (nullable = true)\n",
      " |-- area_se: double (nullable = true)\n",
      " |-- smoothness_se: double (nullable = true)\n",
      " |-- compactness_se: double (nullable = true)\n",
      " |-- concavity_se: double (nullable = true)\n",
      " |-- concave points_se: double (nullable = true)\n",
      " |-- symmetry_se: double (nullable = true)\n",
      " |-- fractal_dimension_se: double (nullable = true)\n",
      " |-- radius_worst: double (nullable = true)\n",
      " |-- texture_worst: double (nullable = true)\n",
      " |-- perimeter_worst: double (nullable = true)\n",
      " |-- area_worst: double (nullable = true)\n",
      " |-- smoothness_worst: double (nullable = true)\n",
      " |-- compactness_worst: double (nullable = true)\n",
      " |-- concavity_worst: double (nullable = true)\n",
      " |-- concave points_worst: double (nullable = true)\n",
      " |-- symmetry_worst: double (nullable = true)\n",
      " |-- fractal_dimension_worst: double (nullable = true)\n",
      "\n"
     ]
    }
   ],
   "source": [
    "input_df.printSchema()"
   ]
  },
  {
   "cell_type": "code",
   "execution_count": 9,
   "id": "d7b857c2-7970-4604-b288-6d0d786a1721",
   "metadata": {
    "tags": []
   },
   "outputs": [
    {
     "name": "stderr",
     "output_type": "stream",
     "text": [
      "                                                                                \r"
     ]
    },
    {
     "data": {
      "text/plain": [
       "[Row(id=842302, diagnosis='M', radius_mean=17.99, texture_mean=10.38, perimeter_mean=122.8, area_mean=1001.0, smoothness_mean=0.1184, compactness_mean=0.2776, concavity_mean=0.3001, concave points_mean=0.1471, symmetry_mean=0.2419, fractal_dimension_mean=0.07871, radius_se=1.095, texture_se=0.9053, perimeter_se=8.589, area_se=153.4, smoothness_se=0.006399, compactness_se=0.04904, concavity_se=0.05373, concave points_se=0.01587, symmetry_se=0.03003, fractal_dimension_se=0.006193, radius_worst=25.38, texture_worst=17.33, perimeter_worst=184.6, area_worst=2019.0, smoothness_worst=0.1622, compactness_worst=0.6656, concavity_worst=0.7119, concave points_worst=0.2654, symmetry_worst=0.4601, fractal_dimension_worst=0.1189)]"
      ]
     },
     "execution_count": 9,
     "metadata": {},
     "output_type": "execute_result"
    }
   ],
   "source": [
    "input_df.head(1)"
   ]
  },
  {
   "cell_type": "markdown",
   "id": "db8ad1ad-ba96-4fc3-9007-169f4a794ea3",
   "metadata": {},
   "source": [
    "Checking the number of rows"
   ]
  },
  {
   "cell_type": "code",
   "execution_count": 30,
   "id": "c17bc538-d87a-436d-b45b-c26929c97d5b",
   "metadata": {
    "tags": []
   },
   "outputs": [
    {
     "data": {
      "text/plain": [
       "569"
      ]
     },
     "execution_count": 30,
     "metadata": {},
     "output_type": "execute_result"
    }
   ],
   "source": [
    "input_df.count()"
   ]
  },
  {
   "cell_type": "markdown",
   "id": "c6ebe226-9d04-4c52-9818-d72e0c35f3b8",
   "metadata": {},
   "source": [
    "Selecting columns i need in the analysis"
   ]
  },
  {
   "cell_type": "code",
   "execution_count": 33,
   "id": "18bed8bd-bbef-4d05-9d23-9dc70a101fed",
   "metadata": {
    "tags": []
   },
   "outputs": [],
   "source": [
    "selected_columns=input_df.select(['diagnosis',\n",
    "                 'radius_mean','radius_worst',\n",
    "                 'texture_mean','texture_worst',\n",
    "                 'compactness_mean','compactness_worst',\n",
    "                 'concavity_mean','concavity_worst',])\n"
   ]
  },
  {
   "cell_type": "code",
   "execution_count": 34,
   "id": "2c593013-a1e0-44af-9d5f-1f4dfb224536",
   "metadata": {
    "tags": []
   },
   "outputs": [
    {
     "name": "stdout",
     "output_type": "stream",
     "text": [
      "+---------+-----------+------------+------------+-------------+----------------+-----------------+--------------+---------------+\n",
      "|diagnosis|radius_mean|radius_worst|texture_mean|texture_worst|compactness_mean|compactness_worst|concavity_mean|concavity_worst|\n",
      "+---------+-----------+------------+------------+-------------+----------------+-----------------+--------------+---------------+\n",
      "|        M|      17.99|       25.38|       10.38|        17.33|          0.2776|           0.6656|        0.3001|         0.7119|\n",
      "|        M|      20.57|       24.99|       17.77|        23.41|         0.07864|           0.1866|        0.0869|         0.2416|\n",
      "|        M|      19.69|       23.57|       21.25|        25.53|          0.1599|           0.4245|        0.1974|         0.4504|\n",
      "|        M|      11.42|       14.91|       20.38|         26.5|          0.2839|           0.8663|        0.2414|         0.6869|\n",
      "|        M|      20.29|       22.54|       14.34|        16.67|          0.1328|            0.205|         0.198|            0.4|\n",
      "|        M|      12.45|       15.47|        15.7|        23.75|            0.17|           0.5249|        0.1578|         0.5355|\n",
      "|        M|      18.25|       22.88|       19.98|        27.66|           0.109|           0.2576|        0.1127|         0.3784|\n",
      "|        M|      13.71|       17.06|       20.83|        28.14|          0.1645|           0.3682|       0.09366|         0.2678|\n",
      "|        M|       13.0|       15.49|       21.82|        30.73|          0.1932|           0.5401|        0.1859|          0.539|\n",
      "|        M|      12.46|       15.09|       24.04|        40.68|          0.2396|            1.058|        0.2273|          1.105|\n",
      "|        M|      16.02|       19.19|       23.24|        33.88|         0.06669|           0.1551|       0.03299|         0.1459|\n",
      "|        M|      15.78|       20.42|       17.89|        27.28|          0.1292|           0.5609|       0.09954|         0.3965|\n",
      "|        M|      19.17|       20.96|        24.8|        29.94|          0.2458|           0.3903|        0.2065|         0.3639|\n",
      "|        M|      15.85|       16.84|       23.95|        27.66|          0.1002|           0.1924|       0.09938|         0.2322|\n",
      "|        M|      13.73|       15.03|       22.61|        32.01|          0.2293|           0.7725|        0.2128|         0.6943|\n",
      "|        M|      14.54|       17.46|       27.54|        37.13|          0.1595|           0.6577|        0.1639|         0.7026|\n",
      "|        M|      14.68|       19.07|       20.13|        30.88|           0.072|           0.1871|       0.07395|         0.2914|\n",
      "|        M|      16.13|       20.96|       20.68|        31.48|          0.2022|           0.4233|        0.1722|         0.4784|\n",
      "|        M|      19.81|       27.32|       22.15|        30.88|          0.1027|            0.315|        0.1479|         0.5372|\n",
      "|        B|      13.54|       15.11|       14.36|        19.26|         0.08129|           0.1773|       0.06664|          0.239|\n",
      "+---------+-----------+------------+------------+-------------+----------------+-----------------+--------------+---------------+\n",
      "only showing top 20 rows\n",
      "\n"
     ]
    }
   ],
   "source": [
    "selected_columns.show()"
   ]
  },
  {
   "cell_type": "markdown",
   "id": "a5add560-3f3b-4e5e-990b-9645d94accd5",
   "metadata": {},
   "source": [
    "Filtering the columns to remain with the needed rows"
   ]
  },
  {
   "cell_type": "code",
   "execution_count": 35,
   "id": "57dfe694-a169-4d5d-ae55-74ae4f01f3dd",
   "metadata": {
    "tags": []
   },
   "outputs": [],
   "source": [
    "filtered_df=selected_columns.filter((input_df.concavity_mean<0.1)& (input_df.texture_mean>20))"
   ]
  },
  {
   "cell_type": "code",
   "execution_count": 36,
   "id": "72286608-3a70-4a17-a09d-8765b5420902",
   "metadata": {
    "tags": []
   },
   "outputs": [
    {
     "name": "stdout",
     "output_type": "stream",
     "text": [
      "+---------+-----------+------------+------------+-------------+----------------+-----------------+--------------+---------------+\n",
      "|diagnosis|radius_mean|radius_worst|texture_mean|texture_worst|compactness_mean|compactness_worst|concavity_mean|concavity_worst|\n",
      "+---------+-----------+------------+------------+-------------+----------------+-----------------+--------------+---------------+\n",
      "|        M|      13.71|       17.06|       20.83|        28.14|          0.1645|           0.3682|       0.09366|         0.2678|\n",
      "|        M|      16.02|       19.19|       23.24|        33.88|         0.06669|           0.1551|       0.03299|         0.1459|\n",
      "|        M|      15.85|       16.84|       23.95|        27.66|          0.1002|           0.1924|       0.09938|         0.2322|\n",
      "|        M|      14.68|       19.07|       20.13|        30.88|           0.072|           0.1871|       0.07395|         0.2914|\n",
      "|        M|      14.99|       14.99|        25.2|         25.2|         0.05131|          0.05131|       0.02398|        0.02398|\n",
      "|        M|      13.44|       15.93|       21.58|        30.25|         0.06031|           0.2043|        0.0311|         0.2085|\n",
      "|        M|      13.28|       17.38|       20.28|         28.0|          0.1436|           0.3724|       0.09847|         0.3664|\n",
      "|        M|      13.17|       16.23|       21.81|        29.89|          0.1047|           0.3904|       0.08259|         0.3728|\n",
      "|        B|      13.49|       15.15|        22.3|        31.82|         0.07698|           0.1711|       0.04751|         0.2282|\n",
      "|        B|      11.76|       12.98|        21.6|        25.72|         0.04966|          0.08615|       0.01657|        0.05523|\n",
      "|        M|       15.1|        18.1|       22.02|        31.69|         0.07081|           0.2057|       0.05253|         0.2712|\n",
      "|        B|      8.598|       9.565|       20.98|        27.04|         0.08963|           0.1698|          0.03|        0.09001|\n",
      "|        B|      9.465|       10.41|       21.01|        31.56|         0.07773|           0.1664|       0.02172|        0.09412|\n",
      "|        B|      11.45|       13.11|       20.97|        32.16|         0.09362|           0.1676|       0.04591|         0.1755|\n",
      "|        B|      12.36|       13.83|        21.8|         30.5|         0.09445|           0.2463|       0.06015|         0.2434|\n",
      "|        B|      14.62|       16.11|       24.02|        29.11|         0.08606|           0.1766|       0.03102|        0.09189|\n",
      "|        M|      13.61|       16.99|       24.98|        35.27|         0.08511|           0.1943|       0.08625|         0.3169|\n",
      "|        B|      12.18|       13.34|       20.52|        32.84|         0.04038|          0.08862|       0.02383|         0.1145|\n",
      "|        B|      11.34|       13.01|       21.26|        29.15|         0.06575|           0.2196|       0.05133|          0.312|\n",
      "|        B|      10.51|       11.16|       20.19|        22.75|          0.1303|           0.2049|       0.06476|         0.1295|\n",
      "+---------+-----------+------------+------------+-------------+----------------+-----------------+--------------+---------------+\n",
      "only showing top 20 rows\n",
      "\n"
     ]
    }
   ],
   "source": [
    "filtered_df.show()"
   ]
  },
  {
   "cell_type": "markdown",
   "id": "91074ff3-d9bf-437d-a6da-c988200d1efe",
   "metadata": {},
   "source": [
    "Gouping needed columns to display the information i need"
   ]
  },
  {
   "cell_type": "code",
   "execution_count": 38,
   "id": "42c07782-6a77-404d-95ec-3369bdcab190",
   "metadata": {
    "tags": []
   },
   "outputs": [],
   "source": [
    "grouped_patients=filtered_df.groupby('diagnosis').max('radius_mean',\\\n",
    "                                             'radius_worst',\\\n",
    "                                             'texture_mean',\\\n",
    "                                             'compactness_mean',\\\n",
    "                                             'concavity_mean')"
   ]
  },
  {
   "cell_type": "code",
   "execution_count": 21,
   "id": "f03fa7e4-2110-41f9-9188-e9425768258d",
   "metadata": {
    "tags": []
   },
   "outputs": [
    {
     "name": "stderr",
     "output_type": "stream",
     "text": [
      "[Stage 16:>                                                         (0 + 1) / 1]\r"
     ]
    },
    {
     "name": "stdout",
     "output_type": "stream",
     "text": [
      "+---------+----------------+-----------------+-----------------+---------------------+-------------------+\n",
      "|diagnosis|max(radius_mean)|max(radius_worst)|max(texture_mean)|max(compactness_mean)|max(concavity_mean)|\n",
      "+---------+----------------+-----------------+-----------------+---------------------+-------------------+\n",
      "|        B|           14.99|            16.76|            33.81|               0.1552|            0.09252|\n",
      "|        M|           20.48|            24.31|            29.81|               0.1645|            0.09938|\n",
      "+---------+----------------+-----------------+-----------------+---------------------+-------------------+\n",
      "\n"
     ]
    },
    {
     "name": "stderr",
     "output_type": "stream",
     "text": [
      "                                                                                \r"
     ]
    }
   ],
   "source": [
    "grouped_patients.show()"
   ]
  },
  {
   "cell_type": "markdown",
   "id": "79eb2947-4f0e-4faf-b53e-baf921351c0a",
   "metadata": {},
   "source": [
    "Writing the needed information in my sql databse"
   ]
  },
  {
   "cell_type": "code",
   "execution_count": 39,
   "id": "542b5c12-2c7e-4d3c-8c51-12e241f8ce6a",
   "metadata": {
    "tags": []
   },
   "outputs": [],
   "source": [
    "\n",
    "grouped_patients.write \\\n",
    "  .format(\"jdbc\") \\\n",
    "  .option(\"driver\",\"com.mysql.cj.jdbc.Driver\") \\\n",
    "  .option(\"url\", \"jdbc:mysql://192.168.0.101:3306/erick\") \\\n",
    "  .option(\"dbtable\", \"grouped_patients\") \\\n",
    "  .option(\"user\", \"root\") \\\n",
    "  .option(\"password\", \"mysql\") \\\n",
    "  .save()"
   ]
  },
  {
   "cell_type": "markdown",
   "id": "47fb1e24-ac0b-4e88-8a2d-99d03a005de5",
   "metadata": {},
   "source": [
    "when i check my workbench the table and the data has been correctly"
   ]
  }
 ],
 "metadata": {
  "kernelspec": {
   "display_name": "Python 3 (ipykernel)",
   "language": "python",
   "name": "python3"
  },
  "language_info": {
   "codemirror_mode": {
    "name": "ipython",
    "version": 3
   },
   "file_extension": ".py",
   "mimetype": "text/x-python",
   "name": "python",
   "nbconvert_exporter": "python",
   "pygments_lexer": "ipython3",
   "version": "3.8.13"
  }
 },
 "nbformat": 4,
 "nbformat_minor": 5
}
