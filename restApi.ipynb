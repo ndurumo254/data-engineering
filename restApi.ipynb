{
 "cells": [
  {
   "cell_type": "markdown",
   "id": "629400ae-ca39-4469-8139-8c83131caa85",
   "metadata": {},
   "source": [
    "REST API stands for Representative state transfer API\n",
    "\n",
    "spark rest APIS consumes less bandwidth, making them faster and lightweight\n"
   ]
  },
  {
   "cell_type": "markdown",
   "id": "5472f052-1261-41f0-9766-ddb9a55631c1",
   "metadata": {},
   "source": [
    "Importing libraries "
   ]
  },
  {
   "cell_type": "code",
   "execution_count": 1,
   "id": "76c5aafe-80d1-4c93-8dea-9491140a8e6f",
   "metadata": {
    "tags": []
   },
   "outputs": [],
   "source": [
    "import requests\n",
    "from pyspark.sql import SparkSession\n",
    "from pyspark.sql.functions import col"
   ]
  },
  {
   "cell_type": "markdown",
   "id": "0d7ec160-1586-4aa2-bf27-2edde1e92c71",
   "metadata": {},
   "source": [
    " Define the API endpoint URL"
   ]
  },
  {
   "cell_type": "code",
   "execution_count": 3,
   "id": "d736bccf-0073-45ee-ac6f-5047bdc85d88",
   "metadata": {
    "tags": []
   },
   "outputs": [],
   "source": [
    "url = \"https://soda.demo.socrata.com/resource/6yvf-kk3n.json\""
   ]
  },
  {
   "cell_type": "markdown",
   "id": "0a48ebf4-3b67-4404-8011-504ef6fb7c3f",
   "metadata": {},
   "source": [
    " Send a GET request to the API and retrieve the JSON response\n",
    " \n",
    " REST api has 4 methods(GET,POST,PUT,DELETE)"
   ]
  },
  {
   "cell_type": "code",
   "execution_count": 4,
   "id": "6bf6a782-37fd-4220-bf67-b9824c1dabcd",
   "metadata": {},
   "outputs": [],
   "source": [
    "response = requests.get(url)\n",
    "data = response.json()\n"
   ]
  },
  {
   "cell_type": "markdown",
   "id": "3a03da0d-8188-41b3-990f-e8e3c0c76f38",
   "metadata": {},
   "source": [
    "Create a SparkSession"
   ]
  },
  {
   "cell_type": "code",
   "execution_count": 7,
   "id": "1808d6a9-343b-4d52-9389-5b85da3a0f65",
   "metadata": {
    "tags": []
   },
   "outputs": [],
   "source": [
    "spark = SparkSession.builder.appName(\"RESTAPIS\")\\\n",
    "                    .config('spark.jars.packages', 'org.postgresql:postgresql:42.5.4')\\\n",
    "                    .getOrCreate()\n",
    "sqlContext = SparkSession(spark)\n",
    "spark.sparkContext.setLogLevel(\"ERROR\")"
   ]
  },
  {
   "cell_type": "markdown",
   "id": "116d9819-af9b-460c-a9a0-9ccaf4fdcaf7",
   "metadata": {},
   "source": [
    "Convert the JSON response to a Spark DataFrame"
   ]
  },
  {
   "cell_type": "markdown",
   "id": "c6c5ab27-fb8d-48fa-90fe-49b483d92930",
   "metadata": {},
   "source": [
    "create DataFrame "
   ]
  },
  {
   "cell_type": "code",
   "execution_count": 8,
   "id": "6d89a21e-dfdf-4ebf-b477-c58560e81e50",
   "metadata": {
    "tags": []
   },
   "outputs": [],
   "source": [
    "df = spark.createDataFrame(data)"
   ]
  },
  {
   "cell_type": "markdown",
   "id": "8d52473e-adcd-4571-a6bd-3a996657352d",
   "metadata": {},
   "source": [
    "Select the desired fields from the DataFrame and rename them if necessary"
   ]
  },
  {
   "cell_type": "code",
   "execution_count": 9,
   "id": "95c2af23-96c1-4691-985e-6d640fd0dd52",
   "metadata": {
    "tags": []
   },
   "outputs": [],
   "source": [
    "RSTAPIS = df.select(col(\"source\"), col(\"earthquake_id\"), \\\n",
    "                    col(\"magnitude\"), col(\"depth\"), \\\n",
    "                    col(\"region\"))"
   ]
  },
  {
   "cell_type": "code",
   "execution_count": 10,
   "id": "4254d5df-5967-49e8-868d-e5390377a39b",
   "metadata": {
    "tags": []
   },
   "outputs": [
    {
     "name": "stderr",
     "output_type": "stream",
     "text": [
      "[Stage 0:>                                                          (0 + 1) / 1]\r"
     ]
    },
    {
     "name": "stdout",
     "output_type": "stream",
     "text": [
      "+------+-------------+---------+-------+--------------------+\n",
      "|source|earthquake_id|magnitude|  depth|              region|\n",
      "+------+-------------+---------+-------+--------------------+\n",
      "|    hv|   hv60679056|      1.8|    2.7|3km W of Volcano,...|\n",
      "|    ak|   ak11250315|      0.7|   17.4|110km W of Cantwe...|\n",
      "|    ak|   ak11249227|      2.1|   11.3|4km NE of Badger,...|\n",
      "|    ak|   ak11242713|      0.8|      0|78km W of Healy, ...|\n",
      "|    uw|   uw60757962|      2.3|      0|10km S of Princet...|\n",
      "|    us|   usb000q0yd|      5.1|     10|Pacific-Antarctic...|\n",
      "|    ak|   ak11249866|      0.7|      8|104km W of Cantwe...|\n",
      "|    us|   usb000qhnh|      5.5|     10|Southeast Indian ...|\n",
      "|    ak|   ak11259904|      0.9|   14.1|54km WNW of Valde...|\n",
      "|    us|   usb000q4uy|      4.8|     10|49km NNE of Andro...|\n",
      "|    nn|   nn00446263|     0.19|10.5214|12km S of Reno, N...|\n",
      "|    hv|   hv60688941|        2|    2.1|5km SW of Volcano...|\n",
      "|    uw|   uw60052508|      1.7|      0|21km SW of Gold B...|\n",
      "|    nn|   nn00446534|     0.39|      0|62km WNW of Alamo...|\n",
      "|    uw|   uw60758217|        1|      0|8km NE of Abbotsf...|\n",
      "|    uw|   uw60753822|        0|     17|4km SSE of Sultan...|\n",
      "|    us|     c000cj09|      5.1|     35|         Molucca Sea|\n",
      "|    ak|   ak11251153|        1|      0|40km W of Valdez,...|\n",
      "|    ak|   ak11254902|      1.8|     49|34km N of Anchor ...|\n",
      "|    hv|   hv60692921|      1.7|    0.1|4km SW of Volcano...|\n",
      "+------+-------------+---------+-------+--------------------+\n",
      "only showing top 20 rows\n",
      "\n"
     ]
    },
    {
     "name": "stderr",
     "output_type": "stream",
     "text": [
      "                                                                                \r"
     ]
    }
   ],
   "source": [
    "RSTAPIS.show()"
   ]
  },
  {
   "cell_type": "code",
   "execution_count": 11,
   "id": "8139dead-1ace-4a63-a5ac-ecfffb522b88",
   "metadata": {
    "tags": []
   },
   "outputs": [
    {
     "name": "stdout",
     "output_type": "stream",
     "text": [
      "root\n",
      " |-- source: string (nullable = true)\n",
      " |-- earthquake_id: string (nullable = true)\n",
      " |-- magnitude: string (nullable = true)\n",
      " |-- depth: string (nullable = true)\n",
      " |-- region: string (nullable = true)\n",
      "\n"
     ]
    }
   ],
   "source": [
    "RSTAPIS.printSchema()"
   ]
  },
  {
   "cell_type": "markdown",
   "id": "560a2d81-f5ea-4b1f-b086-d57d7256fd5e",
   "metadata": {},
   "source": [
    "Creating Temp Table or HIVE table"
   ]
  },
  {
   "cell_type": "code",
   "execution_count": 11,
   "id": "9311abf6-0fc4-46d0-a885-9efc6ccf3909",
   "metadata": {
    "tags": []
   },
   "outputs": [],
   "source": [
    "RSTAPIS.createOrReplaceTempView(\"sodaAPI\")"
   ]
  },
  {
   "cell_type": "code",
   "execution_count": 12,
   "id": "eac599a2-d27d-4256-9499-5f2d9dfab6d1",
   "metadata": {
    "tags": []
   },
   "outputs": [],
   "source": [
    "mydf=sqlContext.sql(\"SELECT DISTINCT(*) FROM sodaAPI\")"
   ]
  },
  {
   "cell_type": "code",
   "execution_count": 13,
   "id": "2a317539-fd33-44e6-bad7-0742722c98b2",
   "metadata": {
    "tags": []
   },
   "outputs": [
    {
     "name": "stderr",
     "output_type": "stream",
     "text": [
      "[Stage 1:>                                                          (0 + 4) / 4]\r"
     ]
    },
    {
     "name": "stdout",
     "output_type": "stream",
     "text": [
      "+------+-------------+---------+-------+--------------------+\n",
      "|source|earthquake_id|magnitude|  depth|              region|\n",
      "+------+-------------+---------+-------+--------------------+\n",
      "|    ci|   ci37218480|     1.58|   4.92|27km ENE of Pine ...|\n",
      "|    nc|   nc72206675|      0.5|    1.3|2km WNW of Cobb, ...|\n",
      "|    ak|   ak11265217|      1.2|    0.8|74km NNW of Talke...|\n",
      "|    ak|   ak11254160|        3|   13.8|98km WSW of Healy...|\n",
      "|    ci|   ci37218832|     0.23|   0.14|40km N of Inyoker...|\n",
      "|    ak|   ak11245826|      1.2|    1.3|103km W of Cantwe...|\n",
      "|    us|   usb000q35s|      4.8|     35|72km SSE of Kirak...|\n",
      "|    ci|   ci37216376|     0.38|  14.65|6km NW of Anza, C...|\n",
      "|    us|   usb000pw9i|      4.6|  64.12|76km WSW of Pangu...|\n",
      "|    nc|   nc72215151|      1.1|    4.7|11km SW of San Si...|\n",
      "|    nc|   nc72205675|      0.3|    6.6|1km ESE of Mammot...|\n",
      "|    ak|   ak11242458|        1|    6.4|113km NW of Talke...|\n",
      "|    ak|   ak11254614|      2.4|   38.6|74km NNE of Sutto...|\n",
      "|    ak|   ak11256959|        1|      0|44km NE of Whitti...|\n",
      "|    hv|   hv60679056|      1.8|    2.7|3km W of Volcano,...|\n",
      "|    ak|   ak11250062|      0.7|    4.4|82km E of Cantwel...|\n",
      "|    ci|   ci15500905|     0.99|   5.04|15km SSE of Anza,...|\n",
      "|    uw|   uw60744522|      2.3|      0|3km SSE of Prince...|\n",
      "|    nn|   nn00446401|     0.53|11.7728|35km NE of Spanis...|\n",
      "|    nc|   nc72217836|      0.3|      4|6km W of Cobb, Ca...|\n",
      "+------+-------------+---------+-------+--------------------+\n",
      "only showing top 20 rows\n",
      "\n"
     ]
    },
    {
     "name": "stderr",
     "output_type": "stream",
     "text": [
      "                                                                                \r"
     ]
    }
   ],
   "source": [
    "mydf.show()"
   ]
  },
  {
   "cell_type": "code",
   "execution_count": 14,
   "id": "0d7a3ffc-399f-4752-81d7-7da0d365883d",
   "metadata": {
    "tags": []
   },
   "outputs": [
    {
     "data": {
      "text/plain": [
       "Row(source='ci', earthquake_id='ci37218480', magnitude='1.58', depth='4.92', region='27km ENE of Pine Valley, California')"
      ]
     },
     "execution_count": 14,
     "metadata": {},
     "output_type": "execute_result"
    }
   ],
   "source": [
    "mydf.head()"
   ]
  },
  {
   "cell_type": "code",
   "execution_count": 15,
   "id": "f9d3f779-6db4-4a7f-beef-c5163f63d6e8",
   "metadata": {
    "tags": []
   },
   "outputs": [],
   "source": [
    "sourceinfo=mydf.select('magnitude','earthquake_id','region','source').groupBy('source').count().orderBy('count')"
   ]
  },
  {
   "cell_type": "code",
   "execution_count": 16,
   "id": "5f175d6b-886e-4bb1-ac59-902135a77feb",
   "metadata": {
    "tags": []
   },
   "outputs": [
    {
     "name": "stdout",
     "output_type": "stream",
     "text": [
      "+------+-----+\n",
      "|source|count|\n",
      "+------+-----+\n",
      "|    nm|    4|\n",
      "|    mb|    5|\n",
      "|    uu|   27|\n",
      "|    uw|   33|\n",
      "|    nn|   41|\n",
      "|    hv|   41|\n",
      "|    pr|   42|\n",
      "|    us|   90|\n",
      "|    ci|  147|\n",
      "|    nc|  241|\n",
      "|    ak|  329|\n",
      "+------+-----+\n",
      "\n"
     ]
    }
   ],
   "source": [
    "sourceinfo.show()"
   ]
  },
  {
   "cell_type": "markdown",
   "id": "346d65d3-1ae7-42f7-9e3c-3db6e4ea436e",
   "metadata": {},
   "source": [
    "store the data in the postgresql in the table named sourceinfo"
   ]
  },
  {
   "cell_type": "code",
   "execution_count": 18,
   "id": "ce93a9ab-0aae-4e25-9f08-86afb2691f0a",
   "metadata": {
    "tags": []
   },
   "outputs": [],
   "source": [
    "sourceinfo.write \\\n",
    "  .format(\"jdbc\") \\\n",
    "  .option(\"url\", \"jdbc:postgresql://192.168.0.104:5432/postgres\") \\\n",
    "  .option(\"driver\", \"org.postgresql.Driver\") \\\n",
    "  .option(\"dbtable\", \"public.sourceinfo\") \\\n",
    "  .option(\"user\", \"postgres\") \\\n",
    "  .option(\"password\", \"erick\")\\\n",
    "  .save()"
   ]
  },
  {
   "cell_type": "code",
   "execution_count": null,
   "id": "10f465b8-e41b-4ef7-97b9-90c8e1f74cb2",
   "metadata": {},
   "outputs": [],
   "source": [
    "check in the pgAdmin to confirm that the table has been successfully created"
   ]
  }
 ],
 "metadata": {
  "kernelspec": {
   "display_name": "Python 3 (ipykernel)",
   "language": "python",
   "name": "python3"
  },
  "language_info": {
   "codemirror_mode": {
    "name": "ipython",
    "version": 3
   },
   "file_extension": ".py",
   "mimetype": "text/x-python",
   "name": "python",
   "nbconvert_exporter": "python",
   "pygments_lexer": "ipython3",
   "version": "3.8.13"
  }
 },
 "nbformat": 4,
 "nbformat_minor": 5
}
