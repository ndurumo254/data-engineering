{
 "cells": [
  {
   "cell_type": "code",
   "execution_count": 19,
   "id": "4687e0bc-d3c7-46eb-9460-45f8ec2a00b8",
   "metadata": {
    "tags": []
   },
   "outputs": [],
   "source": [
    "\n",
    "from pyspark.sql import SparkSession\n",
    "from pyspark.sql import Row"
   ]
  },
  {
   "cell_type": "code",
   "execution_count": 20,
   "id": "b4dfa252-aaaa-4c67-bbd3-1bf55ecbd78e",
   "metadata": {
    "tags": []
   },
   "outputs": [],
   "source": [
    "spark = SparkSession.builder.appName(\"Erick\")\\\n",
    "        .config('spark.jars.packages', 'mysql:mysql-connector-java:8.0.32')\\\n",
    "        .getOrCreate()\n",
    "sqlContext = SparkSession(spark)\n",
    "spark.sparkContext.setLogLevel(\"ERROR\")"
   ]
  },
  {
   "cell_type": "code",
   "execution_count": 21,
   "id": "25829087-526a-47c4-a515-a0530daae63e",
   "metadata": {
    "tags": []
   },
   "outputs": [],
   "source": [
    "customers = spark.createDataFrame([\n",
    "\tRow(id=1,name='Alex',Item='watch',price= 200),\n",
    "\tRow(id=2,name='Peter',Item='phone',price=1000),\n",
    "\tRow(id=3,name='Mike',Item='lattop',price=2000),\n",
    "\tRow(id=4,name='Jackie',Item='cup',price=50),\n",
    "    Row(id=4,name='LINDA',Item='cooker',price=2000),\n",
    "    \n",
    "])"
   ]
  },
  {
   "cell_type": "code",
   "execution_count": 22,
   "id": "d8b90f2d-6f8e-4414-b8bc-2302d4cc76fd",
   "metadata": {
    "tags": []
   },
   "outputs": [
    {
     "name": "stdout",
     "output_type": "stream",
     "text": [
      "+---+------+------+-----+\n",
      "| id|  name|  Item|price|\n",
      "+---+------+------+-----+\n",
      "|  1|  Alex| watch|  200|\n",
      "|  2| Peter| phone| 1000|\n",
      "|  3|  Mike|lattop| 2000|\n",
      "|  4|Jackie|   cup|   50|\n",
      "|  4| LINDA|cooker| 2000|\n",
      "+---+------+------+-----+\n",
      "\n"
     ]
    }
   ],
   "source": [
    "customers.show()"
   ]
  },
  {
   "cell_type": "code",
   "execution_count": 24,
   "id": "9262723c-b142-4a94-a9bb-9aec291283af",
   "metadata": {
    "tags": []
   },
   "outputs": [],
   "source": [
    "\n",
    "customers.select(\"id\",\"name\",\"Item\",\"price\").write.format(\"jdbc\").option(\"url\", \"jdbc:mysql://192.168.0.101:3306/erick\") \\\n",
    "\t.option(\"driver\",\"com.mysql.cj.jdbc.Driver\").option(\"dbtable\", \"customers\") \\\n",
    "\t.option(\"user\", \"root\").option(\"password\", \"mysql\").save()\n"
   ]
  },
  {
   "cell_type": "markdown",
   "id": "0ef554a5-a7df-4233-a62d-7b7359b2926c",
   "metadata": {},
   "source": [
    "To confirm that i have created customers\n",
    "table in my database i navigated to my workbench\n",
    "and as seen below the table was created and it has all the information."
   ]
  },
  {
   "cell_type": "code",
   "execution_count": 28,
   "id": "615af37a-de8a-494c-9652-b9ee7c39904e",
   "metadata": {
    "tags": []
   },
   "outputs": [
    {
     "ename": "SyntaxError",
     "evalue": "EOL while scanning string literal (4111831951.py, line 2)",
     "output_type": "error",
     "traceback": [
      "\u001b[0;36m  Cell \u001b[0;32mIn[28], line 2\u001b[0;36m\u001b[0m\n\u001b[0;31m    display.Image(\"from IPython import display\u001b[0m\n\u001b[0m                                              ^\u001b[0m\n\u001b[0;31mSyntaxError\u001b[0m\u001b[0;31m:\u001b[0m EOL while scanning string literal\n"
     ]
    }
   ],
   "source": [
    "from IPython import display\n",
    "display.Image(\"from IPython import display\n",
    "display.Image(\"mysql_workbench.jpeg\")"
   ]
  },
  {
   "cell_type": "code",
   "execution_count": null,
   "id": "4879bf16-f521-4b2a-830d-2e1d62ba616d",
   "metadata": {},
   "outputs": [],
   "source": []
  }
 ],
 "metadata": {
  "kernelspec": {
   "display_name": "Python 3 (ipykernel)",
   "language": "python",
   "name": "python3"
  },
  "language_info": {
   "codemirror_mode": {
    "name": "ipython",
    "version": 3
   },
   "file_extension": ".py",
   "mimetype": "text/x-python",
   "name": "python",
   "nbconvert_exporter": "python",
   "pygments_lexer": "ipython3",
   "version": "3.8.13"
  }
 },
 "nbformat": 4,
 "nbformat_minor": 5
}
