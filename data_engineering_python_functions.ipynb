{
  "cells": [
    {
      "cell_type": "markdown",
      "metadata": {
        "id": "view-in-github",
        "colab_type": "text"
      },
      "source": [
        "<a href=\"https://colab.research.google.com/github/ndurumo254/data-engineering/blob/main/data_engineering_python_functions.ipynb\" target=\"_parent\"><img src=\"https://colab.research.google.com/assets/colab-badge.svg\" alt=\"Open In Colab\"/></a>"
      ]
    },
    {
      "cell_type": "code",
      "execution_count": null,
      "id": "eb86ac49",
      "metadata": {
        "id": "eb86ac49"
      },
      "outputs": [],
      "source": [
        "#parameter arguments in python \n",
        "#in this am using dataset that i had Scraped from jumia website\n",
        "#the data contains 5 columns: ['commodity', 'price', 'location', 'old_price', 'different_perc'] and around 200 rows.\n",
        "\n",
        "opened_file = open('jumia.csv')\n",
        "from csv import reader\n",
        "read_file = reader(opened_file)\n",
        "store_data = list(read_file)\n"
      ]
    },
    {
      "cell_type": "code",
      "execution_count": null,
      "id": "005a9086",
      "metadata": {
        "id": "005a9086",
        "outputId": "001187b5-9393-40fb-8ede-53ddd40efb24"
      },
      "outputs": [
        {
          "name": "stdout",
          "output_type": "stream",
          "text": [
            "[['commodity', 'price', 'location', 'old_price', 'different_perc'], ['Generic Machined Alloy Front Portal Drive Housing Red Kits For Traxxas TRX-4 Crawler #black-Black (black)', 'KSh 5,119', 'Shipped from abroad', 'KSh 10,238', '50%'], ['Generic POS-5802LN Portale Mini 58mm 1 To 8 Wireless USB Thermal', 'KSh 8,332 - KSh 8,333', 'Shipped from abroad', 'KSh 16,664 - KSh 16,666', '50%'], ['Generic 1:16 1/16 Scale RC Front Rear Bridge Portal Bridge For WPL Truck Off', 'KSh 5,128', 'Shipped from abroad', 'KSh 7,179', '29%'], ['Generic POS-5802LN Portale Mini 58mm', 'KSh 23,302', 'Shipped from abroad', 'KSh 46,604', '50%'], ['Generic Machined Alloy Rear K Portal Drive Housing Set Red For Traxx', 'KSh 4,449', 'Shipped from abroad', 'KSh 7,306', '39%'], ['Generic Machined Alloy Rear K Portal Drive Housing Set Red For Traxx', 'KSh 4,419', 'Shipped from abroad', 'KSh 7,253', '39%'], ['Generic RC Spare Parts P860002 Portal Axle Box Cover', 'KSh 916', 'Shipped from abroad', 'KSh 1,695', '46%'], ['Generic Portal 2 Mouse Pad 900x400x2mm Mats Mass PatternX Computer Mouse Mat Gaming Best Seller Large Mousepad Keyboard Games Pc Gamer  FADY', 'KSh 4,644', 'Shipped from abroad', 'KSh 8,916', '48%'], ['Generic Metal Front Portal Drive Steering Knuckle for YIKONG YK4102 YK4103,A', 'KSh 2,296', 'Shipped from abroad', 'KSh 3,011', '24%'], ['Generic Machined Alloy Front Portal Drive Housing Red Kits For - Red', 'KSh 6,454', 'Shipped from abroad', 'KSh 8,389', '23%'], ['Generic 6Pcs Brass Portal Drive Axle Housing Steering Knuckle', 'KSh 6,279', 'Shipped from abroad', 'KSh 11,617', '46%'], ['Generic Machined Alloy Front Portal Drive Housing Red Kits F - Black', 'KSh 6,454', 'Shipped from abroad', 'KSh 8,389', '23%'], ['Generic 12Pcs Brass Front & Rear Portal Drive Housing Cover Counterweight for YK4102 YK4103 YK4082 YiKong RC Crawler Car Parts', 'KSh 10,521', 'Shipped from abroad', 'KSh 11,475', '8%'], ['Generic POS-5802LN Portale Mini 58mm 1 To 8 Wireless USB Thermal', 'KSh 11,807 - KSh 11,945', 'Shipped from abroad', 'KSh 21,253 - KSh 21,501', '44%'], ['Generic CNC Anodized Full Metal Front Rear Portal Axle with Drive Shaft for MN D90 MN98 MN99S MN45 1/12 RC Car Upgrade Parts,A', 'KSh 6,064', 'Shipped from abroad', 'KSh 6,634', '9%'], ['Generic CNC Machined Alloy Rear Portal Drive Housing Set Red For Traxxas TRX-4 Crawler #red', 'KSh 5,697', 'Shipped from abroad', 'KSh 8,764', '35%'], ['Generic POS-5802LN Portale Mini 58mm 1 To 8 Bluetooth Thermal Printer Receipt Bill Ticket POS Printing', 'KSh 11,636', 'Shipped from abroad', 'KSh 23,272', '50%'], ['Generic Machined Alloy Front K Rear Portal Axles Housing Black Crawl', 'KSh 18,329', 'Shipped from abroad', 'KSh 30,043', '39%'], ['Generic Machined Alloy Front K Portal Drive Housing Red Kits For Tra', 'KSh 5,069', 'Shipped from abroad', 'KSh 8,330', '39%'], ['Generic Machined Alloy Front Portal Drive Housing Red Kits For Traxxas TRX-4 Crawler #pink-Red (red)', 'KSh 5,119', 'Shipped from abroad', 'KSh 10,238', '50%'], ['Generic POS-5802LN Portale Mini 58mm', 'KSh 23,303', 'Shipped from abroad', 'KSh 46,606', '50%'], ['Generic Machined Alloy Front K Portal Drive Housing Red Kits For Tra', 'KSh 5,069', 'Shipped from abroad', 'KSh 8,330', '39%'], ['Generic POS-5802LN Portale Mini 58mm 1 To 8 Wireless USB Thermal', 'KSh 12,117 - KSh 12,260', 'Shipped from abroad', 'KSh 21,811 - KSh 22,068', '44%'], ['Generic Machined Aluminum Front K Rear Portal Axles Housing For Craw', 'KSh 18,329', 'Shipped from abroad', 'KSh 30,043', '39%'], ['Generic Portale Size 3X Magnification Magnifier XL Full Page Magnifying Sheet Fresnel Lens For Reading Newspaper Document', 'KSh 2,290', 'Shipped from abroad', 'KSh 3,948', '42%'], ['Generic 1 2Pc Portal Miniature Giraffe Deer Lovely Animals For', 'KSh 1,222', 'Shipped from abroad', 'KSh 1,710', '29%'], ['Generic Portale Size 3X Magnification Magnifier XL Full Page Magnifying Sheet Fresnel Lens For Reading Newspaper Document', 'KSh 2,290', 'Shipped from abroad', 'KSh 3,948', '42%'], ['Generic Brass Portal Drive Axle Housing Steering Knuckle Caster Block Set for 1/10 RC Crawler Traxxas TRX4 TRX6 Upgrade Parts', 'KSh 7,031', 'Shipped from abroad', 'KSh 7,691', '9%'], ['Generic 4Pcs Steel Front & Rear Portal Stub Axle Drive Shaft Lengthen 10mm for Traxxas Trx4 1/10 RC Crawler Car Upgrades Parts', 'KSh 1,121', 'Shipped from abroad', 'KSh 1,226', '9%'], ['Generic CNC Anodized Full Metal Front Rear Portal Axle with Drive Shaft for MN D90 MN98 MN99S MN45 1/12 RC Car Upgrade Parts,B', 'KSh 6,064', 'Shipped from abroad', 'KSh 6,634', '9%'], ['Generic CNC Anodized Full Metal Front Rear Portal Axle with Drive Shaft for MN D90 MN98 MN99S MN45 1/12 RC Car Upgrade Parts,C', 'KSh 6,064', 'Shipped from abroad', 'KSh 6,634', '9%'], ['Generic Front And Rear Portal Axle With Metal Link Rod Base F', 'KSh 3,329', 'Shipped from abroad', 'KSh 6,206', '46%'], ['Generic CNC Anodized Full Metal Front and Rear Portal Axle for MN D90 MN-90 MN98 MN99S MN45 1/12 RC Car Upgrade Parts,Silver', 'KSh 6,417', 'Shipped from abroad', 'KSh 7,025', '9%'], ['Generic Steering Hub Carrier Knuckle (L/R) 0005 Portal Drive', 'KSh 501', 'Shipped from abroad', 'KSh 928', '46%'], ['Generic CNC Metal Front and Rear Portal Axle Set for 1/10 RC Rock Crawler Car Axial SCX10 I II 90046 90047 Upgrade,Titanium', 'KSh 12,517', 'Shipped from abroad', 'KSh 13,674', '8%'], ['Generic CNC Anodized Full Metal Front and Rear Portal Axle for MN D90 MN-90 MN98 MN99S MN45 1/12 RC Car Upgrade Parts,Black', 'KSh 6,514', 'Shipped from abroad', 'KSh 7,128', '9%'], ['Generic Hard Steel Front Rear Portal Stub Axle Drive Gear', 'KSh 562', 'Shipped from abroad', 'KSh 1,039', '46%'], ['Generic 2PCS Brass Portal Drive Housing Heavy Counterweight Upgrade RC Car Parts', 'KSh 3,175', 'Shipped from abroad', 'KSh 6,191', '49%'], ['Generic Currie Portal F9 Metal Integrated Front And Rear Portal', 'KSh 32,245', 'Shipped from abroad', 'KSh 59,653', '46%'], ['Generic Metal Front And Rear Portal Axle Housing Set For Traxxas', 'KSh 13,019', 'Shipped from abroad', 'KSh 24,084', '46%']]\n"
          ]
        }
      ],
      "source": [
        "#what is contained in the store_data\n",
        "print (store_data)"
      ]
    },
    {
      "cell_type": "code",
      "execution_count": null,
      "id": "0b384a8d",
      "metadata": {
        "id": "0b384a8d",
        "outputId": "ec3b7d8a-e93e-42a1-9951-9c30cc046158"
      },
      "outputs": [
        {
          "name": "stdout",
          "output_type": "stream",
          "text": [
            "['commodity', 'price', 'location', 'old_price', 'different_perc']\n"
          ]
        }
      ],
      "source": [
        "#showing the column present in the data set\n",
        "#the header of the columns gives the column name\n",
        "print (store_data[0])"
      ]
    },
    {
      "cell_type": "code",
      "execution_count": null,
      "id": "32d61619",
      "metadata": {
        "id": "32d61619",
        "outputId": "c9334480-41d8-4568-aef0-58f6ae1c9337"
      },
      "outputs": [
        {
          "data": {
            "text/plain": [
              "[('Generic Machined Alloy Front Portal Drive Housing Red Kits For Traxxas TRX-4 Crawler #black-Black (black)',\n",
              "  'KSh 5,119',\n",
              "  'Shipped from abroad',\n",
              "  'KSh 10,238',\n",
              "  '50%'),\n",
              " ('Generic POS-5802LN Portale Mini 58mm 1 To 8 Wireless USB Thermal',\n",
              "  'KSh 8,332 - KSh 8,333',\n",
              "  'Shipped from abroad',\n",
              "  'KSh 16,664 - KSh 16,666',\n",
              "  '50%')]"
            ]
          },
          "execution_count": 53,
          "metadata": {},
          "output_type": "execute_result"
        }
      ],
      "source": [
        "#defined a function to extract data from my dataset.\n",
        "#comodity=name of the commodity in the jumia site\n",
        "#price= price of the commodity at the moment\n",
        "#location= wether the commodity is imported or it is in the country\n",
        "#old_price= price before offer\n",
        "#different_perc=percentage of the offer that is given to the product\n",
        "#i have called the 2rd and the 3rd row in to show the products, therefore i have displayed \n",
        "def extract(commodity,price,location,old_price,different_perc):\n",
        "    column = []    \n",
        "    for row in store_data[1:3]:\n",
        "        value = row[commodity],row[price],row[location],row[old_price],row[different_perc]\n",
        "        column.append(value)    \n",
        "    return column\n",
        "extract(0,1,2,3,4)\n"
      ]
    },
    {
      "cell_type": "code",
      "execution_count": null,
      "id": "ed5f9dc2",
      "metadata": {
        "id": "ed5f9dc2"
      },
      "outputs": [],
      "source": []
    },
    {
      "cell_type": "code",
      "execution_count": null,
      "id": "211cba22",
      "metadata": {
        "id": "211cba22"
      },
      "outputs": [],
      "source": []
    },
    {
      "cell_type": "code",
      "execution_count": null,
      "id": "d59541bd",
      "metadata": {
        "id": "d59541bd"
      },
      "outputs": [],
      "source": []
    }
  ],
  "metadata": {
    "kernelspec": {
      "display_name": "Python 3 (ipykernel)",
      "language": "python",
      "name": "python3"
    },
    "language_info": {
      "codemirror_mode": {
        "name": "ipython",
        "version": 3
      },
      "file_extension": ".py",
      "mimetype": "text/x-python",
      "name": "python",
      "nbconvert_exporter": "python",
      "pygments_lexer": "ipython3",
      "version": "3.9.12"
    },
    "colab": {
      "provenance": [],
      "include_colab_link": true
    }
  },
  "nbformat": 4,
  "nbformat_minor": 5
}