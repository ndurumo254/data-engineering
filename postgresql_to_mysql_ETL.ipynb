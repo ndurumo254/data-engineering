{
 "cells": [
  {
   "cell_type": "raw",
   "id": "8357accb-1815-473d-ac24-acf718cbf510",
   "metadata": {
    "tags": []
   },
   "source": [
    "Objectives:\n",
    "1.\tCreate a spark session to read data from Postgresql\n",
    "2.\tCarry out data transformation on the data\n",
    "3.\tStore the transformed data in the data frame\n",
    "4.\tWrite the transformed data into the MySQL \n"
   ]
  },
  {
   "cell_type": "markdown",
   "id": "1dac03fc-0791-4216-b0d7-4b7c2bad35ba",
   "metadata": {},
   "source": [
    "Import the required modules"
   ]
  },
  {
   "cell_type": "code",
   "execution_count": 32,
   "id": "3bf93abb-ed66-46ce-a091-e68e7ac78d04",
   "metadata": {
    "tags": []
   },
   "outputs": [],
   "source": [
    "from pyspark.sql import SparkSession"
   ]
  },
  {
   "cell_type": "markdown",
   "id": "02b7b459-9aea-4e2d-aa12-8d7456a90bb8",
   "metadata": {},
   "source": [
    "Create a spark session"
   ]
  },
  {
   "cell_type": "code",
   "execution_count": 33,
   "id": "156a4746-d450-44c1-80e6-d2dd771656c6",
   "metadata": {
    "tags": []
   },
   "outputs": [],
   "source": [
    "spark = SparkSession.builder.appName(\"reading_fro_postgreqls\")\\\n",
    "        .config('spark.jars.packages', 'org.postgresql:postgresql:42.5.4,mysql:mysql-connector-java:8.0.26')\\\n",
    "        .getOrCreate()\n",
    "sqlContext = SparkSession(spark)\n",
    "spark.sparkContext.setLogLevel(\"ERROR\")"
   ]
  },
  {
   "cell_type": "code",
   "execution_count": 34,
   "id": "5d42df15-5f47-428e-b9b3-40ef44d8db21",
   "metadata": {
    "tags": []
   },
   "outputs": [
    {
     "data": {
      "text/html": [
       "\n",
       "            <div>\n",
       "                <p><b>SparkSession - in-memory</b></p>\n",
       "                \n",
       "        <div>\n",
       "            <p><b>SparkContext</b></p>\n",
       "\n",
       "            <p><a href=\"http://f413166d1123:4041\">Spark UI</a></p>\n",
       "\n",
       "            <dl>\n",
       "              <dt>Version</dt>\n",
       "                <dd><code>v3.2.1</code></dd>\n",
       "              <dt>Master</dt>\n",
       "                <dd><code>local[*]</code></dd>\n",
       "              <dt>AppName</dt>\n",
       "                <dd><code>reading_fro_postgreqls</code></dd>\n",
       "            </dl>\n",
       "        </div>\n",
       "        \n",
       "            </div>\n",
       "        "
      ],
      "text/plain": [
       "<pyspark.sql.session.SparkSession at 0x7f04a8fdb730>"
      ]
     },
     "execution_count": 34,
     "metadata": {},
     "output_type": "execute_result"
    }
   ],
   "source": [
    "spark"
   ]
  },
  {
   "cell_type": "markdown",
   "id": "4b724a80-a4aa-4d45-bb86-35aec22d9f63",
   "metadata": {},
   "source": [
    "Extract data from the table(employees) in  postgresql."
   ]
  },
  {
   "cell_type": "code",
   "execution_count": 35,
   "id": "ebe7a8a6-797e-4d8f-8096-02875832df8b",
   "metadata": {
    "tags": []
   },
   "outputs": [],
   "source": [
    "postgre_df = spark.read.format(\"jdbc\") \\\n",
    "    .option(\"url\", \"jdbc:postgresql://192.168.0.104:5432/postgres\") \\\n",
    "    .option(\"driver\", \"org.postgresql.Driver\") \\\n",
    "    .option(\"dbtable\", \"public.employees\") \\\n",
    "    .option(\"user\", \"postgres\") \\\n",
    "    .option(\"password\", \"erick\")\\\n",
    "    .load()"
   ]
  },
  {
   "cell_type": "code",
   "execution_count": 36,
   "id": "5316ce0c-d9dd-4a25-8fe2-f429cdecca53",
   "metadata": {
    "tags": []
   },
   "outputs": [
    {
     "name": "stdout",
     "output_type": "stream",
     "text": [
      "root\n",
      " |-- id: integer (nullable = true)\n",
      " |-- first_name: string (nullable = true)\n",
      " |-- last_name: string (nullable = true)\n",
      " |-- salary: integer (nullable = true)\n",
      " |-- department_id: integer (nullable = true)\n",
      "\n"
     ]
    }
   ],
   "source": [
    "postgre_df.printSchema()"
   ]
  },
  {
   "cell_type": "code",
   "execution_count": 37,
   "id": "ce49f1f0-57cd-4ecb-bd07-cadb47c51ea6",
   "metadata": {
    "tags": []
   },
   "outputs": [
    {
     "name": "stdout",
     "output_type": "stream",
     "text": [
      "+---+----------+---------+------+-------------+\n",
      "| id|first_name|last_name|salary|department_id|\n",
      "+---+----------+---------+------+-------------+\n",
      "| 45|     Kevin|   Duncan| 45210|         1003|\n",
      "| 25|    Pamela| Matthews| 57944|         1005|\n",
      "| 48|    Robert|    Lynch|117960|         1004|\n",
      "| 34|    Justin|     Dunn| 67992|         1003|\n",
      "| 62|      Dale|    Hayes| 97662|         1005|\n",
      "|  1|      Todd|   Wilson|110000|         1006|\n",
      "| 61|      Ryan|    Brown|120000|         1003|\n",
      "| 21|   Stephen|    Berry|123617|         1002|\n",
      "| 13|     Julie|  Sanchez|210000|         1001|\n",
      "| 55|   Michael|   Morris|106799|         1005|\n",
      "| 44|    Trevor|   Carter| 38670|         1001|\n",
      "| 73|   William|  Preston|155225|         1003|\n",
      "| 39|     Linda|    Clark|186781|         1002|\n",
      "| 10|      Sean| Crawford|190000|         1006|\n",
      "| 30|   Stephen|    Smith|194791|         1001|\n",
      "| 75|     Julia|    Ramos|105000|         1006|\n",
      "| 59|     Kevin| Robinson|100924|         1005|\n",
      "| 69|    Ernest| Peterson|115993|         1005|\n",
      "| 65|   Deborah|   Martin| 67389|         1004|\n",
      "| 63|   Richard|  Sanford|136083|         1001|\n",
      "+---+----------+---------+------+-------------+\n",
      "only showing top 20 rows\n",
      "\n"
     ]
    }
   ],
   "source": [
    "postgre_df.show()"
   ]
  },
  {
   "cell_type": "code",
   "execution_count": 38,
   "id": "fd5a34ad-e5a3-48b2-84aa-3dc4f95d8a44",
   "metadata": {
    "tags": []
   },
   "outputs": [
    {
     "data": {
      "text/plain": [
       "Row(id=45, first_name='Kevin', last_name='Duncan', salary=45210, department_id=1003)"
      ]
     },
     "execution_count": 38,
     "metadata": {},
     "output_type": "execute_result"
    }
   ],
   "source": [
    "postgre_df.head()"
   ]
  },
  {
   "cell_type": "markdown",
   "id": "ec0ae84d-c626-4d19-a12f-34cb764772f9",
   "metadata": {},
   "source": [
    "Get the maximum salary from each employee"
   ]
  },
  {
   "cell_type": "code",
   "execution_count": 39,
   "id": "d8ff9f66-e42a-41de-a35a-2f5ccd71391b",
   "metadata": {
    "tags": []
   },
   "outputs": [],
   "source": [
    "max_salary=postgre_df.groupBy(\"id\", \"first_name\", \"last_name\", \"department_id\")\\\n",
    "    .max(\"salary\") \\\n",
    "    .withColumnRenamed(\"max(salary)\", \"max_salary\").orderBy(\"id\")"
   ]
  },
  {
   "cell_type": "code",
   "execution_count": 40,
   "id": "75f7e5a2-9fcd-4b02-8020-1903626cc6b2",
   "metadata": {
    "tags": []
   },
   "outputs": [
    {
     "name": "stdout",
     "output_type": "stream",
     "text": [
      "+---+----------+---------+-------------+----------+\n",
      "| id|first_name|last_name|department_id|max_salary|\n",
      "+---+----------+---------+-------------+----------+\n",
      "|  1|      Todd|   Wilson|         1006|    110000|\n",
      "|  2|    Justin|    Simon|         1005|    130000|\n",
      "|  3|     Kelly|  Rosario|         1002|     42689|\n",
      "|  4|  Patricia|   Powell|         1004|    170000|\n",
      "|  5|    Sherry|   Golden|         1002|     44101|\n",
      "|  6|   Natasha|  Swanson|         1005|     90000|\n",
      "|  7|     Diane|   Gordon|         1002|     74591|\n",
      "|  8|  Mercedes|Rodriguez|         1005|     61048|\n",
      "|  9|   Christy| Mitchell|         1001|    150000|\n",
      "| 10|      Sean| Crawford|         1006|    190000|\n",
      "| 11|     Kevin| Townsend|         1002|    166861|\n",
      "| 12|    Joshua|  Johnson|         1004|    123082|\n",
      "| 13|     Julie|  Sanchez|         1001|    210000|\n",
      "| 14|      John|  Coleman|         1001|    152434|\n",
      "| 15|   Anthony|   Valdez|         1001|     96898|\n",
      "| 16|    Briana|    Rivas|         1005|    151668|\n",
      "| 17|     Jason|  Burnett|         1006|     42525|\n",
      "| 18|   Jeffrey|   Harris|         1002|     20000|\n",
      "| 19|   Michael|   Ramsey|         1003|     63159|\n",
      "| 20|      Cody| Gonzalez|         1004|    112809|\n",
      "+---+----------+---------+-------------+----------+\n",
      "only showing top 20 rows\n",
      "\n"
     ]
    }
   ],
   "source": [
    "max_salary.show()"
   ]
  },
  {
   "cell_type": "markdown",
   "id": "d8427c39-e5ed-4931-af90-398e1b0d2afe",
   "metadata": {},
   "source": [
    "Get employees getting over 150000  salary"
   ]
  },
  {
   "cell_type": "code",
   "execution_count": 41,
   "id": "144b24e3-a95e-44d8-b579-f5ee2483b75f",
   "metadata": {
    "tags": []
   },
   "outputs": [],
   "source": [
    "salary_above150k=max_salary.filter(\"max_salary >150000\")"
   ]
  },
  {
   "cell_type": "code",
   "execution_count": 42,
   "id": "0dfce74f-1ce9-41ce-bee1-6982af380e76",
   "metadata": {
    "tags": []
   },
   "outputs": [
    {
     "name": "stdout",
     "output_type": "stream",
     "text": [
      "+---+----------+---------+-------------+----------+\n",
      "| id|first_name|last_name|department_id|max_salary|\n",
      "+---+----------+---------+-------------+----------+\n",
      "|  4|  Patricia|   Powell|         1004|    170000|\n",
      "| 10|      Sean| Crawford|         1006|    190000|\n",
      "| 11|     Kevin| Townsend|         1002|    166861|\n",
      "| 13|     Julie|  Sanchez|         1001|    210000|\n",
      "| 14|      John|  Coleman|         1001|    152434|\n",
      "| 16|    Briana|    Rivas|         1005|    151668|\n",
      "| 22|  Brittany|    Scott|         1002|    162537|\n",
      "| 30|   Stephen|    Smith|         1001|    194791|\n",
      "| 39|     Linda|    Clark|         1002|    186781|\n",
      "| 42|     Traci| Williams|         1003|    180000|\n",
      "| 50|  Victoria|   Wilson|         1002|    176620|\n",
      "| 52|      Kara|    Smith|         1004|    192838|\n",
      "| 60|   Charles|  Pearson|         1004|    173317|\n",
      "| 73|   William|  Preston|         1003|    155225|\n",
      "| 74|   Richard|     Cole|         1003|    180361|\n",
      "+---+----------+---------+-------------+----------+\n",
      "\n"
     ]
    }
   ],
   "source": [
    "salary_above150k.show()"
   ]
  },
  {
   "cell_type": "markdown",
   "id": "5957b930-2b31-41bf-a323-bd1a2d043bd7",
   "metadata": {},
   "source": [
    "Get the departments of employes with over 150000 and count the number of employees in those  departments."
   ]
  },
  {
   "cell_type": "code",
   "execution_count": 46,
   "id": "ac959adc-4d0c-434b-aae3-ae5b4602f027",
   "metadata": {
    "tags": []
   },
   "outputs": [],
   "source": [
    "department_info=salary_above150k.groupBy(\"department_id\").count(). orderBy(\"count\")"
   ]
  },
  {
   "cell_type": "code",
   "execution_count": 45,
   "id": "4cca8088-e420-4052-ab9f-1bdecc189e4b",
   "metadata": {
    "tags": []
   },
   "outputs": [
    {
     "name": "stdout",
     "output_type": "stream",
     "text": [
      "+-------------+-----+\n",
      "|department_id|count|\n",
      "+-------------+-----+\n",
      "|         1006|    1|\n",
      "|         1005|    1|\n",
      "|         1003|    3|\n",
      "|         1001|    3|\n",
      "|         1004|    3|\n",
      "|         1002|    4|\n",
      "+-------------+-----+\n",
      "\n"
     ]
    }
   ],
   "source": [
    "department_info.show()"
   ]
  },
  {
   "cell_type": "markdown",
   "id": "c70a76e0-52da-40c7-86b3-f0c8f68eb5dc",
   "metadata": {},
   "source": [
    "save the information in the mysql database."
   ]
  },
  {
   "cell_type": "code",
   "execution_count": 31,
   "id": "c0ac27de-f6c0-4bc1-8d8c-1a7e93404cd4",
   "metadata": {
    "tags": []
   },
   "outputs": [],
   "source": [
    "department_info.write \\\n",
    "  .format(\"jdbc\") \\\n",
    "  .option(\"driver\",\"com.mysql.cj.jdbc.Driver\") \\\n",
    "  .option(\"url\", \"jdbc:mysql://192.168.0.104:3306/erick\") \\\n",
    "  .option(\"dbtable\", \"depertmentdata\") \\\n",
    "  .option(\"user\", \"root\") \\\n",
    "  .option(\"password\", \"erick\") \\\n",
    "  .save()"
   ]
  },
  {
   "cell_type": "code",
   "execution_count": null,
   "id": "17e7ebbf-f59e-42f7-ae28-23ac7b052b26",
   "metadata": {},
   "outputs": [],
   "source": []
  }
 ],
 "metadata": {
  "kernelspec": {
   "display_name": "Python 3 (ipykernel)",
   "language": "python",
   "name": "python3"
  },
  "language_info": {
   "codemirror_mode": {
    "name": "ipython",
    "version": 3
   },
   "file_extension": ".py",
   "mimetype": "text/x-python",
   "name": "python",
   "nbconvert_exporter": "python",
   "pygments_lexer": "ipython3",
   "version": "3.8.13"
  }
 },
 "nbformat": 4,
 "nbformat_minor": 5
}
